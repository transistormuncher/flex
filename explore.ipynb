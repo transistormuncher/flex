{
 "cells": [
  {
   "cell_type": "code",
   "execution_count": null,
   "metadata": {
    "collapsed": true
   },
   "outputs": [],
   "source": [
    "import pandas as pd"
   ]
  },
  {
   "cell_type": "code",
   "execution_count": null,
   "outputs": [],
   "source": [
    "asset = pd.read_csv(\"assets_base_data.csv\", sep=\";\")\n",
    "imbalance_penalty = pd.read_csv(\"imbalance_penalty.csv\", sep=\";\")\n",
    "market_index_price = pd.read_csv(\"market_index_price.csv\", sep=\";\")\n",
    "measured = pd.read_csv(\"measured_20241013.csv\", sep=\";\")"
   ],
   "metadata": {
    "collapsed": false
   }
  },
  {
   "cell_type": "code",
   "execution_count": null,
   "outputs": [],
   "source": [
    "asset.head()"
   ],
   "metadata": {
    "collapsed": false
   }
  },
  {
   "cell_type": "markdown",
   "source": [
    "## Trading revenue"
   ],
   "metadata": {
    "collapsed": false
   }
  },
  {
   "cell_type": "code",
   "execution_count": null,
   "outputs": [],
   "source": [
    "trades = pd.read_json(\"trades.json\")\n",
    "trades.head()"
   ],
   "metadata": {
    "collapsed": false
   }
  },
  {
   "cell_type": "code",
   "execution_count": null,
   "outputs": [],
   "source": [
    "def calculate_trading_revenue(row):\n",
    "    revenue = row[\"price\"] * row[\"quantity\"]\n",
    "    if row[\"side\"] == \"buy\": # presumably\n",
    "        revenue = revenue * -1\n",
    "    return revenue\n",
    "trades[\"revenue\"] = trades.apply(calculate_trading_revenue , axis=1)"
   ],
   "metadata": {
    "collapsed": false
   }
  },
  {
   "cell_type": "code",
   "execution_count": null,
   "outputs": [],
   "source": [
    "trades.groupby(\"side\")[\"revenue\"].sum()"
   ],
   "metadata": {
    "collapsed": false
   }
  },
  {
   "cell_type": "markdown",
   "source": [
    "## Invoice revenue"
   ],
   "metadata": {
    "collapsed": false
   }
  },
  {
   "cell_type": "code",
   "execution_count": null,
   "outputs": [],
   "source": [
    "def calculate_revenue(row):\n",
    "    if row[\"price_model\"] == \"fixed\":\n",
    "        colname = row[\"metering_point_id\"]\n",
    "        kw = measured[colname].sum()\n",
    "        revenue = row[\"price__eur_per_mwh\"] * kw / 1000\n",
    "    else:\n",
    "        revenue = 0\n",
    "    return revenue\n",
    "asset[\"revenue\"]= asset.apply(calculate_revenue, axis=1)\n",
    "print(asset[\"revenue\"])"
   ],
   "metadata": {
    "collapsed": false
   }
  },
  {
   "cell_type": "markdown",
   "source": [
    "## Imbalance"
   ],
   "metadata": {
    "collapsed": false
   }
  },
  {
   "cell_type": "code",
   "execution_count": null,
   "outputs": [],
   "source": [
    "df_list = []\n",
    "for i in range(1,5):\n",
    "    df_list.append(pd.read_json(f\"forecasts/a{i}.json\"))\n",
    "forecasts = pd.concat(df_list).reset_index()\n"
   ],
   "metadata": {
    "collapsed": false
   }
  },
  {
   "cell_type": "code",
   "execution_count": null,
   "outputs": [],
   "source": [],
   "metadata": {
    "collapsed": false
   }
  },
  {
   "cell_type": "code",
   "execution_count": null,
   "outputs": [],
   "source": [],
   "metadata": {
    "collapsed": false
   }
  }
 ],
 "metadata": {
  "kernelspec": {
   "display_name": "Python 3",
   "language": "python",
   "name": "python3"
  },
  "language_info": {
   "codemirror_mode": {
    "name": "ipython",
    "version": 2
   },
   "file_extension": ".py",
   "mimetype": "text/x-python",
   "name": "python",
   "nbconvert_exporter": "python",
   "pygments_lexer": "ipython2",
   "version": "2.7.6"
  }
 },
 "nbformat": 4,
 "nbformat_minor": 0
}
